{
 "cells": [
  {
   "cell_type": "markdown",
   "metadata": {},
   "source": [
    "---\n",
    "\n",
    "_You are currently looking at **version 1.1** of this notebook. To download notebooks and datafiles, as well as get help on Jupyter notebooks in the Coursera platform, visit the [Jupyter Notebook FAQ](https://www.coursera.org/learn/python-data-analysis/resources/0dhYG) course resource._\n",
    "\n",
    "---"
   ]
  },
  {
   "cell_type": "code",
   "execution_count": 1,
   "metadata": {
    "collapsed": true
   },
   "outputs": [],
   "source": [
    "import pandas as pd\n",
    "import numpy as np\n",
    "from scipy.stats import ttest_ind\n",
    "import re"
   ]
  },
  {
   "cell_type": "markdown",
   "metadata": {},
   "source": [
    "# Assignment 4 - Hypothesis Testing\n",
    "This assignment requires more individual learning than previous assignments - you are encouraged to check out the [pandas documentation](http://pandas.pydata.org/pandas-docs/stable/) to find functions or methods you might not have used yet, or ask questions on [Stack Overflow](http://stackoverflow.com/) and tag them as pandas and python related. And of course, the discussion forums are open for interaction with your peers and the course staff.\n",
    "\n",
    "Definitions:\n",
    "* A _quarter_ is a specific three month period, Q1 is January through March, Q2 is April through June, Q3 is July through September, Q4 is October through December.\n",
    "* A _recession_ is defined as starting with two consecutive quarters of GDP decline, and ending with two consecutive quarters of GDP growth.\n",
    "* A _recession bottom_ is the quarter within a recession which had the lowest GDP.\n",
    "* A _university town_ is a city which has a high percentage of university students compared to the total population of the city.\n",
    "\n",
    "**Hypothesis**: University towns have their mean housing prices less effected by recessions. Run a t-test to compare the ratio of the mean price of houses in university towns the quarter before the recession starts compared to the recession bottom. (`price_ratio=quarter_before_recession/recession_bottom`)\n",
    "\n",
    "The following data files are available for this assignment:\n",
    "* From the [Zillow research data site](http://www.zillow.com/research/data/) there is housing data for the United States. In particular the datafile for [all homes at a city level](http://files.zillowstatic.com/research/public/City/City_Zhvi_AllHomes.csv), ```City_Zhvi_AllHomes.csv```, has median home sale prices at a fine grained level.\n",
    "* From the Wikipedia page on college towns is a list of [university towns in the United States](https://en.wikipedia.org/wiki/List_of_college_towns#College_towns_in_the_United_States) which has been copy and pasted into the file ```university_towns.txt```.\n",
    "* From Bureau of Economic Analysis, US Department of Commerce, the [GDP over time](http://www.bea.gov/national/index.htm#gdp) of the United States in current dollars (use the chained value in 2009 dollars), in quarterly intervals, in the file ```gdplev.xls```. For this assignment, only look at GDP data from the first quarter of 2000 onward.\n",
    "\n",
    "Each function in this assignment below is worth 10%, with the exception of ```run_ttest()```, which is worth 50%."
   ]
  },
  {
   "cell_type": "code",
   "execution_count": 2,
   "metadata": {
    "collapsed": false
   },
   "outputs": [],
   "source": [
    "# Use this dictionary to map state names to two letter acronyms\n",
    "states = {'OH': 'Ohio', 'KY': 'Kentucky', 'AS': 'American Samoa', 'NV': 'Nevada', 'WY': 'Wyoming', 'NA': 'National', 'AL': 'Alabama', 'MD': 'Maryland', 'AK': 'Alaska', 'UT': 'Utah', 'OR': 'Oregon', 'MT': 'Montana', 'IL': 'Illinois', 'TN': 'Tennessee', 'DC': 'District of Columbia', 'VT': 'Vermont', 'ID': 'Idaho', 'AR': 'Arkansas', 'ME': 'Maine', 'WA': 'Washington', 'HI': 'Hawaii', 'WI': 'Wisconsin', 'MI': 'Michigan', 'IN': 'Indiana', 'NJ': 'New Jersey', 'AZ': 'Arizona', 'GU': 'Guam', 'MS': 'Mississippi', 'PR': 'Puerto Rico', 'NC': 'North Carolina', 'TX': 'Texas', 'SD': 'South Dakota', 'MP': 'Northern Mariana Islands', 'IA': 'Iowa', 'MO': 'Missouri', 'CT': 'Connecticut', 'WV': 'West Virginia', 'SC': 'South Carolina', 'LA': 'Louisiana', 'KS': 'Kansas', 'NY': 'New York', 'NE': 'Nebraska', 'OK': 'Oklahoma', 'FL': 'Florida', 'CA': 'California', 'CO': 'Colorado', 'PA': 'Pennsylvania', 'DE': 'Delaware', 'NM': 'New Mexico', 'RI': 'Rhode Island', 'MN': 'Minnesota', 'VI': 'Virgin Islands', 'NH': 'New Hampshire', 'MA': 'Massachusetts', 'GA': 'Georgia', 'ND': 'North Dakota', 'VA': 'Virginia'}"
   ]
  },
  {
   "cell_type": "code",
   "execution_count": 3,
   "metadata": {
    "collapsed": false
   },
   "outputs": [],
   "source": [
    "def get_list_of_university_towns():\n",
    "    '''Returns a DataFrame of towns and the states they are in from the \n",
    "    university_towns.txt list. The format of the DataFrame should be:\n",
    "    DataFrame( [ [\"Michigan\", \"Ann Arbor\"], [\"Michigan\", \"Yipsilanti\"] ], \n",
    "    columns=[\"State\", \"RegionName\"]  )\n",
    "    \n",
    "    The following cleaning needs to be done:\n",
    "\n",
    "    1. For \"State\", removing characters from \"[\" to the end.\n",
    "    2. For \"RegionName\", when applicable, removing every character from \" (\" to the end.\n",
    "    3. Depending on how you read the data, you may need to remove newline character '\\n'. '''\n",
    "    with open('university_towns.txt') as f:\n",
    "        wiki_raw = f.readlines()\n",
    "\n",
    "    lst = []\n",
    "    \n",
    "    for line in wiki_raw:\n",
    "        if \"[edit]\" in line:\n",
    "            state = line[:-7]\n",
    "        else:\n",
    "            #city = re.sub(r\"\\(.*\\)\", \"\", line)\n",
    "            #city = re.sub(r\"\\(.*\\]\", \"\", city)\n",
    "            city = re.sub(r\"\\(.*$\", \"\", line)\n",
    "            #city = re.sub(r\"\\[.*\\]\", \"\", city)\n",
    "            city = city.strip()\n",
    "            lst.append((state,city))\n",
    "\n",
    "    df = pd.DataFrame.from_records(lst, columns=['State','RegionName'])\n",
    "            \n",
    "    return(df)\n",
    "#get_list_of_university_towns()"
   ]
  },
  {
   "cell_type": "code",
   "execution_count": 4,
   "metadata": {
    "collapsed": false
   },
   "outputs": [],
   "source": [
    "def get_gdp():\n",
    "    gdp = pd.read_excel(open('gdplev.xls','rb'), sheetname=0, skiprows=5, skip_footer=0)\n",
    "    gdp = gdp.drop('Unnamed: 0', 1)\n",
    "    gdp = gdp.drop('GDP in billions of current dollars', 1)\n",
    "    gdp = gdp.drop('GDP in billions of chained 2009 dollars', 1)\n",
    "    gdp = gdp.drop('Unnamed: 3', 1)\n",
    "    gdp = gdp.drop('GDP in billions of current dollars.1', 1)\n",
    "    gdp = gdp.drop('Unnamed: 7', 1)\n",
    "    gdp.columns = ['Quarter','GDP']\n",
    "    small = gdp[gdp['Quarter'] >= '2000q1']\n",
    "    small.set_index(['Quarter'], inplace=True)\n",
    "    # this code courtesy of https://stackoverflow.com/questions/41361537/find-two-consecutive-quarters-of-gdp-decline-and-ending-with-two-consecutive-qu\n",
    "    # I'm somewhat uncomfortable with my classmates asking exact questions like this on public sites. Bad form.\n",
    "    small['change'] = small.diff()        # change in GDP from prior quarter\n",
    "\n",
    "    # if the current change is negative, and the previous change is negative, we are in recession\n",
    "    start = (small.change<0) & (small.change.shift(-1)<0)  # potential start\n",
    "    # if the current change is positive, and the previus change is positive, we are out\n",
    "    end   = (small.change>0) & (small.change.shift(-1)>0)  # potential end\n",
    "    #print(end)\n",
    "    # this tracks our current status, -1 means in recession, +1 means growth\n",
    "    small['recess' ] = np.nan\n",
    "    small.loc[ start, 'recess' ] = -1\n",
    "    small.loc[ end,   'recess' ] =  1\n",
    "\n",
    "    small['recess'] = small.recess.ffill()    # if the current row doesn't fit the \n",
    "                                              # definition of a start or end, then  \n",
    "                                              # fill it with the prior row value                                           \n",
    "    small['startend'] = np.nan\n",
    "    small.loc[ (small.recess==-1) & (small.recess.shift() == 1), 'startend'] = -1  # start\n",
    "    small.loc[ (small.recess== 1) & (small.recess.shift(1)==1) & (small.recess.shift(2)==-1), 'startend'] =  1  # end # problem MUST be here!!\n",
    "\n",
    "    return(small)\n",
    "#print(get_gdp())\n",
    "\n",
    "def get_recession_start():\n",
    "    '''Returns the year and quarter of the recession start time as a \n",
    "    string value in a format such as 2005q3'''\n",
    "    gdp = get_gdp()\n",
    "    \n",
    "    recs=gdp[gdp.startend.notnull()]\n",
    "    \n",
    "    return recs.iloc[0].name\n",
    "#get_recession_start()"
   ]
  },
  {
   "cell_type": "code",
   "execution_count": 5,
   "metadata": {
    "collapsed": false
   },
   "outputs": [],
   "source": [
    "def get_recession_end():\n",
    "    '''Returns the year and quarter of the recession end time as a \n",
    "    string value in a format such as 2005q3'''\n",
    "    gdp = get_gdp()\n",
    "    \n",
    "    recs=gdp[gdp.startend.notnull()]       \n",
    "    \n",
    "    return recs.iloc[1].name # why is this off by one?\n",
    "#get_recession_end()"
   ]
  },
  {
   "cell_type": "code",
   "execution_count": 6,
   "metadata": {
    "collapsed": false
   },
   "outputs": [],
   "source": [
    "def get_recession_bottom():\n",
    "    '''Returns the year and quarter of the recession bottom time as a \n",
    "    string value in a format such as 2005q3'''\n",
    "    gdp = get_gdp()\n",
    "    \n",
    "    recs=gdp[gdp.startend.notnull()]  \n",
    "\n",
    "    # this feels Pythonic\n",
    "    recession = gdp.loc[get_recession_start(): get_recession_end()]  \n",
    "    #gdp.loc[gdp['Quarter'].idxmax()]\n",
    "    return recession.loc[recession['GDP'].idxmin()].name\n",
    "#get_recession_bottom()"
   ]
  },
  {
   "cell_type": "code",
   "execution_count": 7,
   "metadata": {
    "collapsed": false
   },
   "outputs": [],
   "source": [
    "def convert_housing_data_to_quarters():\n",
    "    '''Converts the housing data to quarters and returns it as mean \n",
    "    values in a dataframe. This dataframe should be a dataframe with\n",
    "    columns for 2000q1 through 2016q3, and should have a multi-index\n",
    "    in the shape of [\"State\",\"RegionName\"].\n",
    "    \n",
    "    Note: Quarters are defined in the assignment description, they are\n",
    "    not arbitrary three month periods.\n",
    "    \n",
    "    The resulting dataframe should have 67 columns, and 10,730 rows.\n",
    "    '''\n",
    "    house = pd.read_csv('City_Zhvi_AllHomes.csv')\n",
    "    house['State'] = house['State'].map(lambda x: states[x])\n",
    "    columns_to_keep = ['RegionName',\n",
    "                   'State']\n",
    "    data_columns = [x for x in list(house) if (x >= '2000-01') & (x <= '2016-12')]\n",
    "    comb = columns_to_keep + data_columns\n",
    "    house = house[comb]\n",
    "    house.set_index(['State','RegionName'], inplace=True)\n",
    "    final = house.groupby(pd.PeriodIndex(house.columns, freq='Q'), axis=1).mean()\n",
    "    return final\n",
    "#convert_housing_data_to_quarters()"
   ]
  },
  {
   "cell_type": "code",
   "execution_count": 28,
   "metadata": {
    "collapsed": false
   },
   "outputs": [
    {
     "name": "stderr",
     "output_type": "stream",
     "text": [
      "/opt/conda/lib/python3.5/site-packages/ipykernel/__main__.py:14: SettingWithCopyWarning: \n",
      "A value is trying to be set on a copy of a slice from a DataFrame.\n",
      "Try using .loc[row_indexer,col_indexer] = value instead\n",
      "\n",
      "See the caveats in the documentation: http://pandas.pydata.org/pandas-docs/stable/indexing.html#indexing-view-versus-copy\n",
      "/opt/conda/lib/python3.5/site-packages/ipykernel/__main__.py:22: SettingWithCopyWarning: \n",
      "A value is trying to be set on a copy of a slice from a DataFrame.\n",
      "Try using .loc[row_indexer,col_indexer] = value instead\n",
      "\n",
      "See the caveats in the documentation: http://pandas.pydata.org/pandas-docs/stable/indexing.html#indexing-view-versus-copy\n",
      "/opt/conda/lib/python3.5/site-packages/pandas/core/indexing.py:132: SettingWithCopyWarning: \n",
      "A value is trying to be set on a copy of a slice from a DataFrame\n",
      "\n",
      "See the caveats in the documentation: http://pandas.pydata.org/pandas-docs/stable/indexing.html#indexing-view-versus-copy\n",
      "  self._setitem_with_indexer(indexer, value)\n",
      "/opt/conda/lib/python3.5/site-packages/ipykernel/__main__.py:23: SettingWithCopyWarning: \n",
      "A value is trying to be set on a copy of a slice from a DataFrame\n",
      "\n",
      "See the caveats in the documentation: http://pandas.pydata.org/pandas-docs/stable/indexing.html#indexing-view-versus-copy\n",
      "/opt/conda/lib/python3.5/site-packages/ipykernel/__main__.py:24: SettingWithCopyWarning: \n",
      "A value is trying to be set on a copy of a slice from a DataFrame\n",
      "\n",
      "See the caveats in the documentation: http://pandas.pydata.org/pandas-docs/stable/indexing.html#indexing-view-versus-copy\n",
      "/opt/conda/lib/python3.5/site-packages/ipykernel/__main__.py:26: SettingWithCopyWarning: \n",
      "A value is trying to be set on a copy of a slice from a DataFrame.\n",
      "Try using .loc[row_indexer,col_indexer] = value instead\n",
      "\n",
      "See the caveats in the documentation: http://pandas.pydata.org/pandas-docs/stable/indexing.html#indexing-view-versus-copy\n",
      "/opt/conda/lib/python3.5/site-packages/ipykernel/__main__.py:29: SettingWithCopyWarning: \n",
      "A value is trying to be set on a copy of a slice from a DataFrame.\n",
      "Try using .loc[row_indexer,col_indexer] = value instead\n",
      "\n",
      "See the caveats in the documentation: http://pandas.pydata.org/pandas-docs/stable/indexing.html#indexing-view-versus-copy\n",
      "/opt/conda/lib/python3.5/site-packages/ipykernel/__main__.py:30: SettingWithCopyWarning: \n",
      "A value is trying to be set on a copy of a slice from a DataFrame\n",
      "\n",
      "See the caveats in the documentation: http://pandas.pydata.org/pandas-docs/stable/indexing.html#indexing-view-versus-copy\n",
      "/opt/conda/lib/python3.5/site-packages/ipykernel/__main__.py:31: SettingWithCopyWarning: \n",
      "A value is trying to be set on a copy of a slice from a DataFrame\n",
      "\n",
      "See the caveats in the documentation: http://pandas.pydata.org/pandas-docs/stable/indexing.html#indexing-view-versus-copy\n"
     ]
    },
    {
     "data": {
      "text/plain": [
       "(True, 0.0054964273536938875, 'university town')"
      ]
     },
     "execution_count": 28,
     "metadata": {},
     "output_type": "execute_result"
    }
   ],
   "source": [
    "def run_ttest():\n",
    "    '''First creates new data showing the decline or growth of housing prices\n",
    "    between the recession start and the recession bottom. Then runs a ttest\n",
    "    comparing the university town values to the non-university towns values, \n",
    "    return whether the alternative hypothesis (that the two groups are the same)\n",
    "    is true or not as well as the p-value of the confidence. \n",
    "    \n",
    "    Return the tuple (different, p, better) where different=True if the t-test is\n",
    "    True at a p<0.01 (we reject the null hypothesis), or different=False if \n",
    "    otherwise (we cannot reject the null hypothesis). The variable p should\n",
    "    be equal to the exact p value returned from scipy.stats.ttest_ind(). The\n",
    "    value for better should be either \"university town\" or \"non-university town\"\n",
    "    depending on which has a lower mean price ratio (which is equivilent to a\n",
    "    reduced market loss).'''\n",
    "    # I struggle with PeriodIndex, this is a big kludge\n",
    "    house = convert_housing_data_to_quarters()\n",
    "    start = get_recession_start()\n",
    "    start_house = house[start]\n",
    "    start_house.name = 'start'\n",
    "    bottom = get_recession_bottom()\n",
    "    bottom_house = house[bottom]\n",
    "    bottom_house.name = 'bottom'\n",
    "    h = pd.concat([start_house, bottom_house],axis=1)\n",
    "    h.reset_index(inplace=True)\n",
    "    # now we have just the two quarters we need\n",
    "    university_towns = get_list_of_university_towns()\n",
    "    u = university_towns.reset_index()\n",
    "    hdf = pd.merge(h, u, on=['State','RegionName'], how='left', indicator='Exist')\n",
    "    hdf = hdf.drop('index',1)\n",
    "    # then compute decline/growth\n",
    "    hdf['PriceRatio'] = hdf['start'].div(hdf['bottom'])\n",
    "    hdf.set_index(['State','RegionName'], inplace=True)\n",
    "    # if it exists in the university table, separate it\n",
    "    uni = hdf[(hdf['Exist'] == 'both') & pd.notnull(hdf['PriceRatio'])]\n",
    "    non = hdf[(hdf['Exist'] == 'left_only') & pd.notnull(hdf['PriceRatio'])]\n",
    "    # get means\n",
    "    uni_mean = uni['PriceRatio'].mean()\n",
    "    non_mean = non['PriceRatio'].mean()\n",
    "\n",
    "    # run the ttest\n",
    "    t,p = ttest_ind(uni['PriceRatio'], non['PriceRatio'])\n",
    "    \n",
    "    if (p < 0.01):\n",
    "        different = True\n",
    "    else:\n",
    "        different = False\n",
    "    \n",
    "    if (uni_mean < non_mean):\n",
    "        better = 'university town'\n",
    "    else:\n",
    "        better = 'non-university town'\n",
    "        \n",
    "    return (different,p,better)\n",
    "\n",
    "#run_ttest()"
   ]
  },
  {
   "cell_type": "code",
   "execution_count": null,
   "metadata": {
    "collapsed": true
   },
   "outputs": [],
   "source": []
  }
 ],
 "metadata": {
  "coursera": {
   "course_slug": "python-data-analysis",
   "graded_item_id": "Il9Fx",
   "launcher_item_id": "TeDW0",
   "part_id": "WGlun"
  },
  "kernelspec": {
   "display_name": "Python 3",
   "language": "python",
   "name": "python3"
  },
  "language_info": {
   "codemirror_mode": {
    "name": "ipython",
    "version": 3
   },
   "file_extension": ".py",
   "mimetype": "text/x-python",
   "name": "python",
   "nbconvert_exporter": "python",
   "pygments_lexer": "ipython3",
   "version": "3.5.2"
  }
 },
 "nbformat": 4,
 "nbformat_minor": 0
}
