{
 "cells": [
  {
   "cell_type": "markdown",
   "metadata": {},
   "source": [
    "---\n",
    "\n",
    "_You are currently looking at **version 1.0** of this notebook. To download notebooks and datafiles, as well as get help on Jupyter notebooks in the Coursera platform, visit the [Jupyter Notebook FAQ](https://www.coursera.org/learn/python-data-analysis/resources/0dhYG) course resource._\n",
    "\n",
    "---"
   ]
  },
  {
   "cell_type": "markdown",
   "metadata": {},
   "source": [
    "# Distributions in Pandas"
   ]
  },
  {
   "cell_type": "code",
   "execution_count": 1,
   "metadata": {
    "collapsed": false
   },
   "outputs": [],
   "source": [
    "import pandas as pd\n",
    "import numpy as np"
   ]
  },
  {
   "cell_type": "code",
   "execution_count": 2,
   "metadata": {
    "collapsed": false
   },
   "outputs": [
    {
     "data": {
      "text/plain": [
       "0"
      ]
     },
     "execution_count": 2,
     "metadata": {},
     "output_type": "execute_result"
    }
   ],
   "source": [
    "np.random.binomial(1, 0.5)"
   ]
  },
  {
   "cell_type": "code",
   "execution_count": 3,
   "metadata": {
    "collapsed": false
   },
   "outputs": [
    {
     "data": {
      "text/plain": [
       "0.507"
      ]
     },
     "execution_count": 3,
     "metadata": {},
     "output_type": "execute_result"
    }
   ],
   "source": [
    "np.random.binomial(1000, 0.5)/1000"
   ]
  },
  {
   "cell_type": "code",
   "execution_count": 4,
   "metadata": {
    "collapsed": false
   },
   "outputs": [
    {
     "data": {
      "text/plain": [
       "10"
      ]
     },
     "execution_count": 4,
     "metadata": {},
     "output_type": "execute_result"
    }
   ],
   "source": [
    "chance_of_tornado = 0.01/100\n",
    "np.random.binomial(100000, chance_of_tornado)"
   ]
  },
  {
   "cell_type": "code",
   "execution_count": 5,
   "metadata": {
    "collapsed": false
   },
   "outputs": [
    {
     "name": "stdout",
     "output_type": "stream",
     "text": [
      "101 tornadoes back to back in 2739.72602739726 years\n"
     ]
    }
   ],
   "source": [
    "chance_of_tornado = 0.01\n",
    "\n",
    "tornado_events = np.random.binomial(1, chance_of_tornado, 1000000)\n",
    "    \n",
    "two_days_in_a_row = 0\n",
    "for j in range(1,len(tornado_events)-1):\n",
    "    if tornado_events[j]==1 and tornado_events[j-1]==1:\n",
    "        two_days_in_a_row+=1\n",
    "\n",
    "print('{} tornadoes back to back in {} years'.format(two_days_in_a_row, 1000000/365))"
   ]
  },
  {
   "cell_type": "code",
   "execution_count": 6,
   "metadata": {
    "collapsed": false
   },
   "outputs": [
    {
     "data": {
      "text/plain": [
       "0.1624627420030933"
      ]
     },
     "execution_count": 6,
     "metadata": {},
     "output_type": "execute_result"
    }
   ],
   "source": [
    "np.random.uniform(0, 1)"
   ]
  },
  {
   "cell_type": "code",
   "execution_count": 7,
   "metadata": {
    "collapsed": false
   },
   "outputs": [
    {
     "data": {
      "text/plain": [
       "0.5267669768255375"
      ]
     },
     "execution_count": 7,
     "metadata": {},
     "output_type": "execute_result"
    }
   ],
   "source": [
    "np.random.normal(0.75)"
   ]
  },
  {
   "cell_type": "markdown",
   "metadata": {},
   "source": [
    "Formula for standard deviation\n",
    "$$\\sqrt{\\frac{1}{N} \\sum_{i=1}^N (x_i - \\overline{x})^2}$$"
   ]
  },
  {
   "cell_type": "code",
   "execution_count": 8,
   "metadata": {
    "collapsed": false
   },
   "outputs": [
    {
     "data": {
      "text/plain": [
       "1.0013667124236978"
      ]
     },
     "execution_count": 8,
     "metadata": {},
     "output_type": "execute_result"
    }
   ],
   "source": [
    "distribution = np.random.normal(0.75,size=1000)\n",
    "\n",
    "np.sqrt(np.sum((np.mean(distribution)-distribution)**2)/len(distribution))"
   ]
  },
  {
   "cell_type": "code",
   "execution_count": 9,
   "metadata": {
    "collapsed": false,
    "scrolled": true
   },
   "outputs": [
    {
     "data": {
      "text/plain": [
       "1.0013667124236978"
      ]
     },
     "execution_count": 9,
     "metadata": {},
     "output_type": "execute_result"
    }
   ],
   "source": [
    "np.std(distribution)"
   ]
  },
  {
   "cell_type": "code",
   "execution_count": 10,
   "metadata": {
    "collapsed": false
   },
   "outputs": [
    {
     "data": {
      "text/plain": [
       "0.037960391870760724"
      ]
     },
     "execution_count": 10,
     "metadata": {},
     "output_type": "execute_result"
    }
   ],
   "source": [
    "import scipy.stats as stats\n",
    "stats.kurtosis(distribution)"
   ]
  },
  {
   "cell_type": "code",
   "execution_count": 11,
   "metadata": {
    "collapsed": false
   },
   "outputs": [
    {
     "data": {
      "text/plain": [
       "0.08185198238951978"
      ]
     },
     "execution_count": 11,
     "metadata": {},
     "output_type": "execute_result"
    }
   ],
   "source": [
    "stats.skew(distribution)"
   ]
  },
  {
   "cell_type": "code",
   "execution_count": 12,
   "metadata": {
    "collapsed": false
   },
   "outputs": [
    {
     "data": {
      "text/plain": [
       "2.0418971467017055"
      ]
     },
     "execution_count": 12,
     "metadata": {},
     "output_type": "execute_result"
    }
   ],
   "source": [
    "chi_squared_df2 = np.random.chisquare(2, size=10000)\n",
    "stats.skew(chi_squared_df2)"
   ]
  },
  {
   "cell_type": "code",
   "execution_count": 13,
   "metadata": {
    "collapsed": false
   },
   "outputs": [
    {
     "data": {
      "text/plain": [
       "1.2142835646273333"
      ]
     },
     "execution_count": 13,
     "metadata": {},
     "output_type": "execute_result"
    }
   ],
   "source": [
    "chi_squared_df5 = np.random.chisquare(5, size=10000)\n",
    "stats.skew(chi_squared_df5)"
   ]
  },
  {
   "cell_type": "code",
   "execution_count": 14,
   "metadata": {
    "collapsed": false
   },
   "outputs": [
    {
     "name": "stderr",
     "output_type": "stream",
     "text": [
      "/opt/conda/lib/python3.5/site-packages/matplotlib/font_manager.py:273: UserWarning: Matplotlib is building the font cache using fc-list. This may take a moment.\n",
      "  warnings.warn('Matplotlib is building the font cache using fc-list. This may take a moment.')\n",
      "/opt/conda/lib/python3.5/site-packages/matplotlib/font_manager.py:273: UserWarning: Matplotlib is building the font cache using fc-list. This may take a moment.\n",
      "  warnings.warn('Matplotlib is building the font cache using fc-list. This may take a moment.')\n"
     ]
    },
    {
     "data": {
      "text/plain": [
       "<matplotlib.legend.Legend at 0x7f25d1fed710>"
      ]
     },
     "execution_count": 14,
     "metadata": {},
     "output_type": "execute_result"
    },
    {
     "data": {
      "image/png": "[encoded data removed]",
      "text/plain": [
       "<matplotlib.figure.Figure at 0x7f25d1fed6d8>"
      ]
     },
     "metadata": {},
     "output_type": "display_data"
    }
   ],
   "source": [
    "%matplotlib inline\n",
    "import matplotlib\n",
    "import matplotlib.pyplot as plt\n",
    "\n",
    "output = plt.hist([chi_squared_df2,chi_squared_df5], bins=50, histtype='step', \n",
    "                  label=['2 degrees of freedom','5 degrees of freedom'])\n",
    "plt.legend(loc='upper right')\n"
   ]
  },
  {
   "cell_type": "markdown",
   "metadata": {},
   "source": [
    "# Hypothesis Testing"
   ]
  },
  {
   "cell_type": "code",
   "execution_count": 15,
   "metadata": {
    "collapsed": false
   },
   "outputs": [],
   "source": [
    "df = pd.read_csv('grades.csv')"
   ]
  },
  {
   "cell_type": "code",
   "execution_count": 16,
   "metadata": {
    "collapsed": false
   },
   "outputs": [
    {
     "data": {
      "text/html": [
       "<div>\n",
       "<table border=\"1\" class=\"dataframe\">\n",
       "  <thead>\n",
       "    <tr style=\"text-align: right;\">\n",
       "      <th></th>\n",
       "      <th>student_id</th>\n",
       "      <th>assignment1_grade</th>\n",
       "      <th>assignment1_submission</th>\n",
       "      <th>assignment2_grade</th>\n",
       "      <th>assignment2_submission</th>\n",
       "      <th>assignment3_grade</th>\n",
       "      <th>assignment3_submission</th>\n",
       "      <th>assignment4_grade</th>\n",
       "      <th>assignment4_submission</th>\n",
       "      <th>assignment5_grade</th>\n",
       "      <th>assignment5_submission</th>\n",
       "      <th>assignment6_grade</th>\n",
       "      <th>assignment6_submission</th>\n",
       "    </tr>\n",
       "  </thead>\n",
       "  <tbody>\n",
       "    <tr>\n",
       "      <th>0</th>\n",
       "      <td>B73F2C11-70F0-E37D-8B10-1D20AFED50B1</td>\n",
       "      <td>92.733946</td>\n",
       "      <td>2015-11-02 06:55:34.282000000</td>\n",
       "      <td>83.030552</td>\n",
       "      <td>2015-11-09 02:22:58.938000000</td>\n",
       "      <td>67.164441</td>\n",
       "      <td>2015-11-12 08:58:33.998000000</td>\n",
       "      <td>53.011553</td>\n",
       "      <td>2015-11-16 01:21:24.663000000</td>\n",
       "      <td>47.710398</td>\n",
       "      <td>2015-11-20 13:24:59.692000000</td>\n",
       "      <td>38.168318</td>\n",
       "      <td>2015-11-22 18:31:15.934000000</td>\n",
       "    </tr>\n",
       "    <tr>\n",
       "      <th>1</th>\n",
       "      <td>98A0FAE0-A19A-13D2-4BB5-CFBFD94031D1</td>\n",
       "      <td>86.790821</td>\n",
       "      <td>2015-11-29 14:57:44.429000000</td>\n",
       "      <td>86.290821</td>\n",
       "      <td>2015-12-06 17:41:18.449000000</td>\n",
       "      <td>69.772657</td>\n",
       "      <td>2015-12-10 08:54:55.904000000</td>\n",
       "      <td>55.098125</td>\n",
       "      <td>2015-12-13 17:32:30.941000000</td>\n",
       "      <td>49.588313</td>\n",
       "      <td>2015-12-19 23:26:39.285000000</td>\n",
       "      <td>44.629482</td>\n",
       "      <td>2015-12-21 17:07:24.275000000</td>\n",
       "    </tr>\n",
       "    <tr>\n",
       "      <th>2</th>\n",
       "      <td>D0F62040-CEB0-904C-F563-2F8620916C4E</td>\n",
       "      <td>85.512541</td>\n",
       "      <td>2016-01-09 05:36:02.389000000</td>\n",
       "      <td>85.512541</td>\n",
       "      <td>2016-01-09 06:39:44.416000000</td>\n",
       "      <td>68.410033</td>\n",
       "      <td>2016-01-15 20:22:45.882000000</td>\n",
       "      <td>54.728026</td>\n",
       "      <td>2016-01-11 12:41:50.749000000</td>\n",
       "      <td>49.255224</td>\n",
       "      <td>2016-01-11 17:31:12.489000000</td>\n",
       "      <td>44.329701</td>\n",
       "      <td>2016-01-17 16:24:42.765000000</td>\n",
       "    </tr>\n",
       "    <tr>\n",
       "      <th>3</th>\n",
       "      <td>FFDF2B2C-F514-EF7F-6538-A6A53518E9DC</td>\n",
       "      <td>86.030665</td>\n",
       "      <td>2016-04-30 06:50:39.801000000</td>\n",
       "      <td>68.824532</td>\n",
       "      <td>2016-04-30 17:20:38.727000000</td>\n",
       "      <td>61.942079</td>\n",
       "      <td>2016-05-12 07:47:16.326000000</td>\n",
       "      <td>49.553663</td>\n",
       "      <td>2016-05-07 16:09:20.485000000</td>\n",
       "      <td>49.553663</td>\n",
       "      <td>2016-05-24 12:51:18.016000000</td>\n",
       "      <td>44.598297</td>\n",
       "      <td>2016-05-26 08:09:12.058000000</td>\n",
       "    </tr>\n",
       "    <tr>\n",
       "      <th>4</th>\n",
       "      <td>5ECBEEB6-F1CE-80AE-3164-E45E99473FB4</td>\n",
       "      <td>64.813800</td>\n",
       "      <td>2015-12-13 17:06:10.750000000</td>\n",
       "      <td>51.491040</td>\n",
       "      <td>2015-12-14 12:25:12.056000000</td>\n",
       "      <td>41.932832</td>\n",
       "      <td>2015-12-29 14:25:22.594000000</td>\n",
       "      <td>36.929549</td>\n",
       "      <td>2015-12-28 01:29:55.901000000</td>\n",
       "      <td>33.236594</td>\n",
       "      <td>2015-12-29 14:46:06.628000000</td>\n",
       "      <td>33.236594</td>\n",
       "      <td>2016-01-05 01:06:59.546000000</td>\n",
       "    </tr>\n",
       "  </tbody>\n",
       "</table>\n",
       "</div>"
      ],
      "text/plain": [
       "                             student_id  assignment1_grade  \\\n",
       "0  B73F2C11-70F0-E37D-8B10-1D20AFED50B1          92.733946   \n",
       "1  98A0FAE0-A19A-13D2-4BB5-CFBFD94031D1          86.790821   \n",
       "2  D0F62040-CEB0-904C-F563-2F8620916C4E          85.512541   \n",
       "3  FFDF2B2C-F514-EF7F-6538-A6A53518E9DC          86.030665   \n",
       "4  5ECBEEB6-F1CE-80AE-3164-E45E99473FB4          64.813800   \n",
       "\n",
       "          assignment1_submission  assignment2_grade  \\\n",
       "0  2015-11-02 06:55:34.282000000          83.030552   \n",
       "1  2015-11-29 14:57:44.429000000          86.290821   \n",
       "2  2016-01-09 05:36:02.389000000          85.512541   \n",
       "3  2016-04-30 06:50:39.801000000          68.824532   \n",
       "4  2015-12-13 17:06:10.750000000          51.491040   \n",
       "\n",
       "          assignment2_submission  assignment3_grade  \\\n",
       "0  2015-11-09 02:22:58.938000000          67.164441   \n",
       "1  2015-12-06 17:41:18.449000000          69.772657   \n",
       "2  2016-01-09 06:39:44.416000000          68.410033   \n",
       "3  2016-04-30 17:20:38.727000000          61.942079   \n",
       "4  2015-12-14 12:25:12.056000000          41.932832   \n",
       "\n",
       "          assignment3_submission  assignment4_grade  \\\n",
       "0  2015-11-12 08:58:33.998000000          53.011553   \n",
       "1  2015-12-10 08:54:55.904000000          55.098125   \n",
       "2  2016-01-15 20:22:45.882000000          54.728026   \n",
       "3  2016-05-12 07:47:16.326000000          49.553663   \n",
       "4  2015-12-29 14:25:22.594000000          36.929549   \n",
       "\n",
       "          assignment4_submission  assignment5_grade  \\\n",
       "0  2015-11-16 01:21:24.663000000          47.710398   \n",
       "1  2015-12-13 17:32:30.941000000          49.588313   \n",
       "2  2016-01-11 12:41:50.749000000          49.255224   \n",
       "3  2016-05-07 16:09:20.485000000          49.553663   \n",
       "4  2015-12-28 01:29:55.901000000          33.236594   \n",
       "\n",
       "          assignment5_submission  assignment6_grade  \\\n",
       "0  2015-11-20 13:24:59.692000000          38.168318   \n",
       "1  2015-12-19 23:26:39.285000000          44.629482   \n",
       "2  2016-01-11 17:31:12.489000000          44.329701   \n",
       "3  2016-05-24 12:51:18.016000000          44.598297   \n",
       "4  2015-12-29 14:46:06.628000000          33.236594   \n",
       "\n",
       "          assignment6_submission  \n",
       "0  2015-11-22 18:31:15.934000000  \n",
       "1  2015-12-21 17:07:24.275000000  \n",
       "2  2016-01-17 16:24:42.765000000  \n",
       "3  2016-05-26 08:09:12.058000000  \n",
       "4  2016-01-05 01:06:59.546000000  "
      ]
     },
     "execution_count": 16,
     "metadata": {},
     "output_type": "execute_result"
    }
   ],
   "source": [
    "df.head()"
   ]
  },
  {
   "cell_type": "code",
   "execution_count": 17,
   "metadata": {
    "collapsed": false
   },
   "outputs": [
    {
     "data": {
      "text/plain": [
       "2315"
      ]
     },
     "execution_count": 17,
     "metadata": {},
     "output_type": "execute_result"
    }
   ],
   "source": [
    "len(df)"
   ]
  },
  {
   "cell_type": "code",
   "execution_count": 18,
   "metadata": {
    "collapsed": false
   },
   "outputs": [
    {
     "name": "stdout",
     "output_type": "stream",
     "text": [
      "                                student_id  assignment1_grade  \\\n",
      "0     B73F2C11-70F0-E37D-8B10-1D20AFED50B1          92.733946   \n",
      "1     98A0FAE0-A19A-13D2-4BB5-CFBFD94031D1          86.790821   \n",
      "4     5ECBEEB6-F1CE-80AE-3164-E45E99473FB4          64.813800   \n",
      "5     D09000A0-827B-C0FF-3433-BF8FF286E15B          71.647278   \n",
      "8     C9D51293-BD58-F113-4167-A7C0BAFCB6E5          66.595568   \n",
      "11    B017B4A6-1F41-9D46-A040-21B0D270D4BE          76.670469   \n",
      "15    24827B50-2FC2-E4B0-E2A0-1989E17749B3          14.959603   \n",
      "17    D6EFCCCA-82CA-C4BE-1C3E-D0477DE28B24          53.555227   \n",
      "19    C040D322-E970-4E8F-22A6-2FFAF2D74061          36.383575   \n",
      "22    A1331E62-50B5-94FC-E0CE-3092CB3D30D9          88.901114   \n",
      "24    FCB5854D-D84C-E8BA-4AF8-59FCF9CC69CB          88.700055   \n",
      "25    A4FB423A-E08E-559F-DCCD-A0A543E812E3          73.256087   \n",
      "27    EFDA9F93-D0C3-864F-B0F6-2E9AA3E05E31          75.756429   \n",
      "28    DDE0526B-7DA4-80E8-C2A6-D097F3826029          94.437504   \n",
      "31    247B105C-2067-A7AA-2CBE-B65278128C96          67.272728   \n",
      "35    DDE0526B-7DA4-80E8-C2A6-D097F3826029          84.569747   \n",
      "37    DE88902E-C7A7-E37A-CFA7-F2C8F2D219F2          46.216968   \n",
      "41    6D2AB78F-44F4-2E8B-5C5E-B79119BC7EAC          92.313072   \n",
      "42    DE88902E-C7A7-E37A-CFA7-F2C8F2D219F2          54.648509   \n",
      "44    1F51E050-78F7-F270-1B90-ED1BC0376763          84.397806   \n",
      "45    DDE0526B-7DA4-80E8-C2A6-D097F3826029          74.831750   \n",
      "46    25197F10-E9E9-4C50-63F8-6C896975AAE2          74.358688   \n",
      "48    EFDA9F93-D0C3-864F-B0F6-2E9AA3E05E31          68.723308   \n",
      "50    2B806EF6-A590-1C00-F0C5-1469E3B2152E          75.412068   \n",
      "52    DDE0526B-7DA4-80E8-C2A6-D097F3826029          64.138166   \n",
      "53    DDE0526B-7DA4-80E8-C2A6-D097F3826029          39.502537   \n",
      "54    DE88902E-C7A7-E37A-CFA7-F2C8F2D219F2          59.925967   \n",
      "55    1F51E050-78F7-F270-1B90-ED1BC0376763          57.644747   \n",
      "58    25197F10-E9E9-4C50-63F8-6C896975AAE2          95.568756   \n",
      "59    DDE0526B-7DA4-80E8-C2A6-D097F3826029          89.708593   \n",
      "...                                    ...                ...   \n",
      "2249  247B105C-2067-A7AA-2CBE-B65278128C96          62.510334   \n",
      "2251  EFDA9F93-D0C3-864F-B0F6-2E9AA3E05E31          51.425058   \n",
      "2252  2B806EF6-A590-1C00-F0C5-1469E3B2152E          62.255515   \n",
      "2254  EFDA9F93-D0C3-864F-B0F6-2E9AA3E05E31          87.734423   \n",
      "2255  DE88902E-C7A7-E37A-CFA7-F2C8F2D219F2          62.375855   \n",
      "2257  247B105C-2067-A7AA-2CBE-B65278128C96          95.119516   \n",
      "2261  EFDA9F93-D0C3-864F-B0F6-2E9AA3E05E31          72.020605   \n",
      "2263  6D2AB78F-44F4-2E8B-5C5E-B79119BC7EAC          88.329148   \n",
      "2264  DDE0526B-7DA4-80E8-C2A6-D097F3826029          86.824217   \n",
      "2267  247B105C-2067-A7AA-2CBE-B65278128C96          86.507833   \n",
      "2268  DDE0526B-7DA4-80E8-C2A6-D097F3826029          78.438381   \n",
      "2269  1F51E050-78F7-F270-1B90-ED1BC0376763          62.842774   \n",
      "2270  25197F10-E9E9-4C50-63F8-6C896975AAE2          75.009522   \n",
      "2277  5AB0D44C-86FF-2DE6-B096-B0F5D029E430          84.572437   \n",
      "2280  247B105C-2067-A7AA-2CBE-B65278128C96          61.897192   \n",
      "2281  EFDA9F93-D0C3-864F-B0F6-2E9AA3E05E31          47.544490   \n",
      "2285  DE88902E-C7A7-E37A-CFA7-F2C8F2D219F2          99.467096   \n",
      "2288  DDE0526B-7DA4-80E8-C2A6-D097F3826029         100.009744   \n",
      "2289  5AB0D44C-86FF-2DE6-B096-B0F5D029E430          84.266188   \n",
      "2291  2B806EF6-A590-1C00-F0C5-1469E3B2152E          92.912163   \n",
      "2294  DDE0526B-7DA4-80E8-C2A6-D097F3826029          75.499444   \n",
      "2296  25197F10-E9E9-4C50-63F8-6C896975AAE2          74.106685   \n",
      "2299  247B105C-2067-A7AA-2CBE-B65278128C96          58.760286   \n",
      "2304  EFDA9F93-D0C3-864F-B0F6-2E9AA3E05E31          65.123101   \n",
      "2305  5AB0D44C-86FF-2DE6-B096-B0F5D029E430          76.819524   \n",
      "2308  EFDA9F93-D0C3-864F-B0F6-2E9AA3E05E31          71.481182   \n",
      "2309  6D2AB78F-44F4-2E8B-5C5E-B79119BC7EAC          82.640274   \n",
      "2311  DE88902E-C7A7-E37A-CFA7-F2C8F2D219F2          75.367870   \n",
      "2312  EFDA9F93-D0C3-864F-B0F6-2E9AA3E05E31          73.269463   \n",
      "2314  DDE0526B-7DA4-80E8-C2A6-D097F3826029          80.318105   \n",
      "\n",
      "             assignment1_submission  assignment2_grade  \\\n",
      "0     2015-11-02 06:55:34.282000000          83.030552   \n",
      "1     2015-11-29 14:57:44.429000000          86.290821   \n",
      "4     2015-12-13 17:06:10.750000000          51.491040   \n",
      "5     2015-12-28 04:35:32.836000000          64.052550   \n",
      "8     2015-12-25 02:29:28.415000000          52.916454   \n",
      "11    2015-10-05 02:11:05.947000000          68.573422   \n",
      "15    2015-11-17 01:16:07.800000000          14.459603   \n",
      "17    2015-09-17 13:06:39.955000000          53.055227   \n",
      "19    2015-11-12 14:05:47.682000000          32.315217   \n",
      "22    2015-09-16 22:33:02.686000000          70.760891   \n",
      "24    2015-11-22 08:35:35.912000000          79.400050   \n",
      "25    2015-11-15 18:13:44.573000000          72.756087   \n",
      "27    2015-09-18 20:18:12.171000000          75.256429   \n",
      "28    2015-12-20 23:25:46.655000000          93.937504   \n",
      "31    2015-11-29 11:12:19.546000000          60.115455   \n",
      "35    2015-10-04 04:48:45.093000000          67.295798   \n",
      "37    2015-10-12 18:17:58.284000000          41.165271   \n",
      "41    2015-10-04 08:05:05.734000000          91.813072   \n",
      "42    2015-10-17 15:57:34.382000000          48.753658   \n",
      "44    2015-12-14 07:48:07.185000000          83.897806   \n",
      "45    2015-10-21 20:43:13.791000000          59.505400   \n",
      "46    2015-11-02 03:12:44.175000000          73.858688   \n",
      "48    2015-10-30 19:31:08.332000000          61.420977   \n",
      "50    2015-12-26 17:56:11.158000000          74.912068   \n",
      "52    2015-11-15 04:49:30.054000000          57.294350   \n",
      "53    2015-10-26 20:31:49.625000000          31.242030   \n",
      "54    2015-12-14 00:24:58.552000000          53.503370   \n",
      "55    2015-10-01 18:05:18.574000000          45.755797   \n",
      "58    2015-10-16 09:58:24.931000000          95.068756   \n",
      "59    2015-09-19 19:21:08.042000000          71.406875   \n",
      "...                             ...                ...   \n",
      "2249  2015-10-18 04:04:27.852000000          55.829301   \n",
      "2251  2015-11-30 08:45:08.446000000          50.925058   \n",
      "2252  2015-12-29 23:01:21.071000000          61.755515   \n",
      "2254  2015-10-26 10:52:45.953000000          78.530981   \n",
      "2255  2015-11-15 09:03:13.852000000          55.708269   \n",
      "2257  2015-09-20 16:40:36.366000000          75.735613   \n",
      "2261  2015-11-01 15:47:52.514000000          71.520605   \n",
      "2263  2015-11-02 00:57:31.125000000          70.303319   \n",
      "2264  2015-09-19 22:12:32.304000000          69.099374   \n",
      "2267  2015-12-28 02:39:25.097000000          86.007833   \n",
      "2268  2015-12-14 05:10:49.343000000          77.938381   \n",
      "2269  2015-09-17 14:45:58.903000000          56.128497   \n",
      "2270  2015-11-01 22:22:26.638000000          59.647618   \n",
      "2277  2015-10-19 05:08:47.251000000          75.685193   \n",
      "2280  2015-09-21 06:38:44.559000000          61.397192   \n",
      "2281  2015-10-01 17:26:05.341000000          42.360041   \n",
      "2285  2015-10-18 22:02:27.541000000          79.213677   \n",
      "2288  2015-10-18 22:08:01.298000000          79.647795   \n",
      "2289  2015-09-27 20:09:58.143000000          67.052950   \n",
      "2291  2015-10-05 00:18:07.951000000          92.412163   \n",
      "2294  2015-11-01 15:41:55.707000000          60.039556   \n",
      "2296  2015-12-03 02:09:36.088000000          66.266016   \n",
      "2299  2015-12-27 00:22:12.955000000          46.648229   \n",
      "2304  2015-09-19 10:51:49.169000000          51.738481   \n",
      "2305  2015-09-29 22:20:29.379000000          61.095619   \n",
      "2308  2015-10-03 09:04:46.358000000          70.981182   \n",
      "2309  2015-10-01 23:25:20.529000000          65.752219   \n",
      "2311  2015-11-29 02:43:27.932000000          59.934296   \n",
      "2312  2015-10-20 08:09:27.418000000          58.255570   \n",
      "2314  2015-10-04 09:46:03.403000000          79.818105   \n",
      "\n",
      "             assignment2_submission  assignment3_grade  \\\n",
      "0     2015-11-09 02:22:58.938000000          67.164441   \n",
      "1     2015-12-06 17:41:18.449000000          69.772657   \n",
      "4     2015-12-14 12:25:12.056000000          41.932832   \n",
      "5     2016-01-03 21:05:38.392000000          64.752550   \n",
      "8     2015-12-31 01:42:30.046000000          48.344809   \n",
      "11    2015-10-11 23:08:01.288000000          69.273422   \n",
      "15    2015-11-22 15:00:14.342000000          12.307682   \n",
      "17    2015-09-20 09:57:00.973000000          48.469704   \n",
      "19    2015-11-29 12:17:05.380000000          33.015217   \n",
      "22    2015-09-23 23:30:17.970000000          64.404802   \n",
      "24    2015-11-25 19:20:11.290000000          80.100050   \n",
      "25    2015-11-15 18:05:14.054000000          73.456087   \n",
      "27    2015-09-29 20:18:02.673000000          75.956429   \n",
      "28    2015-12-21 13:27:26.211000000          94.637504   \n",
      "31    2015-12-06 15:35:42.732000000          48.832364   \n",
      "35    2015-10-07 18:18:34.315000000          54.576638   \n",
      "37    2015-10-19 12:59:31.481000000          41.865271   \n",
      "41    2015-10-10 09:34:59.165000000          92.513072   \n",
      "42    2015-10-24 11:02:00.238000000          49.453658   \n",
      "44    2015-12-19 08:40:55.205000000          67.858245   \n",
      "45    2015-10-22 20:38:56.557000000          54.274860   \n",
      "46    2015-11-08 22:07:48.196000000          59.826950   \n",
      "48    2015-11-06 19:42:51.117000000          55.998880   \n",
      "50    2015-12-29 15:52:57.582000000          60.669654   \n",
      "52    2015-11-15 10:38:58.090000000          57.994350   \n",
      "53    2015-11-02 20:49:30.588000000          31.942030   \n",
      "54    2015-12-20 21:11:25.270000000          48.873033   \n",
      "55    2015-09-26 19:55:24.263000000          46.455797   \n",
      "58    2015-10-22 18:25:03.503000000          95.768756   \n",
      "59    2015-09-25 19:43:54.729000000          64.986187   \n",
      "...                             ...                ...   \n",
      "2249  2015-10-24 06:07:24.342000000          56.529301   \n",
      "2251  2015-11-30 11:50:59.100000000          41.480046   \n",
      "2252  2016-01-06 02:12:59.920000000          50.144412   \n",
      "2254  2015-11-07 09:32:09.985000000          79.230981   \n",
      "2255  2015-11-22 09:49:09.278000000          45.306615   \n",
      "2257  2015-09-27 03:35:27.471000000          61.328491   \n",
      "2261  2015-11-09 20:32:21.950000000          57.956484   \n",
      "2263  2015-11-08 19:36:40.764000000          63.992987   \n",
      "2264  2015-09-27 21:13:49.648000000          62.909436   \n",
      "2267  2015-12-30 16:14:35.738000000          78.127050   \n",
      "2268  2015-12-21 06:25:19.560000000          70.864543   \n",
      "2269  2015-09-21 19:24:17.139000000          51.235647   \n",
      "2270  2015-11-07 17:54:42.584000000          48.458094   \n",
      "2277  2015-10-22 04:26:14.716000000          76.385193   \n",
      "2280  2015-09-27 10:04:11.626000000          49.857753   \n",
      "2281  2015-10-09 13:15:53.790000000          43.060041   \n",
      "2285  2015-10-23 22:31:54.001000000          72.012309   \n",
      "2288  2015-10-26 03:14:55.856000000          64.458236   \n",
      "2289  2015-09-27 02:15:35.316000000          67.752950   \n",
      "2291  2015-10-09 10:06:10.730000000          83.890947   \n",
      "2294  2015-11-08 21:37:21.087000000          54.755600   \n",
      "2296  2015-12-02 21:21:39.079000000          53.752813   \n",
      "2299  2016-01-01 14:53:45.588000000          47.348229   \n",
      "2304  2015-09-20 10:24:54.245000000          42.130785   \n",
      "2305  2015-09-30 16:52:09.570000000          61.795619   \n",
      "2308  2015-10-06 03:57:28.420000000          64.603064   \n",
      "2309  2015-10-05 02:06:11.522000000          53.341775   \n",
      "2311  2015-12-03 05:30:39.218000000          48.687437   \n",
      "2312  2015-11-18 19:07:06.930000000          58.955570   \n",
      "2314  2015-10-06 10:28:30.820000000          64.594484   \n",
      "\n",
      "             assignment3_submission  assignment4_grade  \\\n",
      "0     2015-11-12 08:58:33.998000000          53.011553   \n",
      "1     2015-12-10 08:54:55.904000000          55.098125   \n",
      "4     2015-12-29 14:25:22.594000000          36.929549   \n",
      "5     2016-01-07 08:55:43.692000000          57.467295   \n",
      "8     2016-01-05 23:34:02.180000000          47.444809   \n",
      "11    2015-10-14 06:03:04.482000000          54.698738   \n",
      "15    2015-11-28 13:12:23.939000000           9.126146   \n",
      "17    2015-09-21 13:17:53.140000000          47.569704   \n",
      "19    2015-12-24 08:32:51.206000000          25.692174   \n",
      "22    2015-09-30 03:54:05.524000000          50.803842   \n",
      "24    2015-12-02 18:55:26.445000000          79.200050   \n",
      "25    2016-03-01 00:12:01.739000000          58.044870   \n",
      "27    2015-10-10 15:11:56.910000000          60.045143   \n",
      "28    2015-12-30 23:04:46.997000000          74.990003   \n",
      "31    2015-12-10 08:54:52.454000000          47.932364   \n",
      "35    2015-10-12 20:42:45.112000000          53.676638   \n",
      "37    2015-10-20 20:00:26.665000000          36.868744   \n",
      "41    2015-10-13 14:10:16.018000000          73.290458   \n",
      "42    2015-10-26 20:51:07.415000000          48.553658   \n",
      "44    2015-12-24 04:01:36.978000000          60.262420   \n",
      "45    2015-10-28 00:04:16.885000000          42.699888   \n",
      "46    2015-11-12 06:27:48.761000000          47.141560   \n",
      "48    2015-11-15 01:58:36.636000000          55.098880   \n",
      "50    2016-01-06 11:02:58.924000000          53.792689   \n",
      "52    2015-11-22 13:29:40.199000000          51.384915   \n",
      "53    2015-11-10 04:27:57.321000000          24.833624   \n",
      "54    2015-12-24 08:32:51.575000000          43.175730   \n",
      "55    2015-10-12 07:16:18.640000000          41.000218   \n",
      "58    2015-11-01 17:10:05.594000000          85.381881   \n",
      "59    2015-09-30 07:56:39.411000000          51.268950   \n",
      "...                             ...                ...   \n",
      "2249  2015-10-26 09:32:44.152000000          55.629301   \n",
      "2251  2015-12-11 10:41:59.605000000          32.464037   \n",
      "2252  2016-01-14 14:21:45.518000000          39.395529   \n",
      "2254  2015-11-11 04:27:03.163000000          62.664785   \n",
      "2255  2015-11-24 17:46:58.782000000          44.406615   \n",
      "2257  2015-09-29 19:24:26.835000000          60.428491   \n",
      "2261  2016-01-18 15:55:13.851000000          57.056484   \n",
      "2263  2015-11-12 02:29:37.982000000          63.092987   \n",
      "2264  2015-09-30 02:24:59.422000000          49.607549   \n",
      "2267  2016-01-07 08:55:44.511000000          61.781640   \n",
      "2268  2015-12-24 08:32:51.190000000          69.964543   \n",
      "2269  2015-09-26 08:48:53.703000000          45.302083   \n",
      "2270  2015-11-11 07:55:32.959000000          42.802285   \n",
      "2277  2015-10-27 15:29:57.235000000          67.936674   \n",
      "2280  2015-09-28 09:50:49.260000000          39.166203   \n",
      "2281  2015-10-12 22:08:59.795000000          37.944037   \n",
      "2285  2015-11-07 18:55:24.713000000          71.112309   \n",
      "2288  2015-10-28 22:03:28.868000000          57.202413   \n",
      "2289  2015-11-11 22:26:27.965000000          60.167655   \n",
      "2291  2015-10-19 03:00:39.917000000          82.990947   \n",
      "2294  2015-11-12 04:57:30.730000000          43.084480   \n",
      "2296  2015-12-10 08:54:54.517000000          42.282251   \n",
      "2299  2016-01-07 05:53:53.600000000          37.158583   \n",
      "2304  2015-09-29 00:53:36.851000000          41.230785   \n",
      "2305  2015-10-06 17:31:52.022000000          48.716495   \n",
      "2308  2015-10-12 07:58:25.081000000          63.703064   \n",
      "2309  2015-10-22 23:58:36.426000000          47.197598   \n",
      "2311  2015-12-09 15:56:44.895000000          43.008693   \n",
      "2312  2015-12-10 08:54:54.871000000          52.250013   \n",
      "2314  2015-10-13 17:06:29.179000000          50.955587   \n",
      "\n",
      "             assignment4_submission  assignment5_grade  \\\n",
      "0     2015-11-16 01:21:24.663000000          47.710398   \n",
      "1     2015-12-13 17:32:30.941000000          49.588313   \n",
      "4     2015-12-28 01:29:55.901000000          33.236594   \n",
      "5     2016-01-11 00:45:28.706000000          57.467295   \n",
      "8     2016-01-02 07:48:42.517000000          37.955847   \n",
      "11    2015-10-19 00:34:45.875000000          49.228864   \n",
      "15    2015-11-29 17:06:51.153000000           8.213531   \n",
      "17    2015-09-22 10:12:42.156000000          42.812734   \n",
      "19    2015-12-15 12:46:09.484000000          20.553739   \n",
      "22    2015-10-02 00:38:00.096000000          50.803842   \n",
      "24    2015-12-03 19:24:01.221000000          79.200050   \n",
      "25    2015-12-06 16:52:47.276000000          58.044870   \n",
      "27    2015-09-30 23:19:46.018000000          54.040629   \n",
      "28    2015-12-21 19:42:25.147000000          59.992002   \n",
      "31    2015-12-13 23:15:48.104000000          47.932364   \n",
      "35    2015-10-09 23:26:44.826000000          42.941311   \n",
      "37    2015-10-21 11:26:24.383000000          36.868744   \n",
      "41    2015-10-31 04:56:08.068000000          58.632366   \n",
      "42    2015-10-31 10:19:25.895000000          38.842926   \n",
      "44    2015-12-25 13:23:07.047000000          54.236178   \n",
      "45    2015-11-02 01:09:08.848000000          38.429899   \n",
      "46    2015-11-15 18:15:38.078000000          37.713248   \n",
      "48    2015-11-12 19:49:56.650000000          44.079104   \n",
      "50    2016-01-10 14:56:21.240000000          53.792689   \n",
      "52    2015-11-17 12:28:43.184000000          46.246423   \n",
      "53    2015-11-13 20:31:43.630000000          22.350261   \n",
      "54    2015-12-27 17:53:18.482000000          34.540584   \n",
      "55    2015-10-01 19:32:42.452000000          36.900196   \n",
      "58    2015-10-26 19:40:26.723000000          85.381881   \n",
      "59    2015-10-03 23:33:31.653000000          41.015160   \n",
      "...                             ...                ...   \n",
      "2249  2015-11-01 03:10:07.783000000          44.503441   \n",
      "2251  2015-12-10 11:38:44.656000000          32.464037   \n",
      "2252  2016-01-09 19:11:10.471000000          31.516423   \n",
      "2254  2015-11-14 17:44:52.874000000          56.398306   \n",
      "2255  2015-11-27 16:44:23.551000000          39.965954   \n",
      "2257  2015-10-04 16:49:33.230000000          54.385641   \n",
      "2261  2016-01-10 14:36:29.710000000          57.056484   \n",
      "2263  2015-11-15 13:40:40.714000000          63.092987   \n",
      "2264  2015-10-04 22:12:11.506000000          49.607549   \n",
      "2267  2016-01-11 01:50:34.129000000          49.425312   \n",
      "2268  2016-01-04 03:02:45.928000000          69.964543   \n",
      "2269  2015-10-01 13:59:51.750000000          40.771874   \n",
      "2270  2015-11-15 11:31:00.428000000          38.522056   \n",
      "2277  2015-10-26 16:42:28.346000000          67.936674   \n",
      "2280  2015-09-28 13:23:18.050000000          35.249583   \n",
      "2281  2015-10-15 12:21:16.315000000          37.944037   \n",
      "2285  2015-10-29 20:29:58.013000000          64.001078   \n",
      "2288  2015-11-01 15:48:02.103000000          45.761930   \n",
      "2289  2015-10-03 00:16:34.509000000          60.167655   \n",
      "2291  2015-10-11 00:35:51.029000000          74.691852   \n",
      "2294  2015-11-14 11:34:40.193000000          43.084480   \n",
      "2296  2015-12-13 20:57:45.000000000          33.825800   \n",
      "2299  2016-01-08 22:22:46.239000000          33.442725   \n",
      "2304  2015-09-21 10:07:47.047000000          32.984628   \n",
      "2305  2015-10-08 04:25:03.280000000          48.716495   \n",
      "2308  2015-10-17 07:59:49.005000000          50.962451   \n",
      "2309  2015-10-16 12:32:56.809000000          47.197598   \n",
      "2311  2015-12-13 06:18:01.342000000          38.707824   \n",
      "2312  2015-11-23 19:40:00.434000000          41.800010   \n",
      "2314  2015-10-06 16:18:35.513000000          40.764470   \n",
      "\n",
      "             assignment5_submission  assignment6_grade  \\\n",
      "0     2015-11-20 13:24:59.692000000          38.168318   \n",
      "1     2015-12-19 23:26:39.285000000          44.629482   \n",
      "4     2015-12-29 14:46:06.628000000          33.236594   \n",
      "5     2016-01-11 00:54:13.579000000          57.467295   \n",
      "8     2016-01-03 21:27:04.266000000          37.955847   \n",
      "11    2015-10-24 11:25:20.846000000          49.228864   \n",
      "15    2015-12-06 21:21:09.208000000           7.392178   \n",
      "17    2015-09-27 10:58:56.037000000          42.812734   \n",
      "19    2015-12-27 06:11:42.755000000          16.442991   \n",
      "22    2015-10-08 18:57:57.501000000          45.723457   \n",
      "24    2015-12-06 11:34:37.729000000          63.360040   \n",
      "25    2015-12-07 08:58:32.626000000          46.435896   \n",
      "27    2015-10-12 00:42:54.909000000          54.040629   \n",
      "28    2015-12-21 19:56:36.821000000          59.992002   \n",
      "31    2015-12-20 15:03:54.890000000          43.139128   \n",
      "35    2015-10-10 19:48:17.128000000          38.647180   \n",
      "37    2015-10-23 12:10:59.128000000          33.181869   \n",
      "41    2015-11-18 09:19:03.352000000          52.769130   \n",
      "42    2015-11-07 14:48:03.969000000          38.842926   \n",
      "44    2016-01-02 09:53:13.686000000          48.812561   \n",
      "45    2015-11-10 20:29:15.228000000          34.586909   \n",
      "46    2015-11-23 02:13:40.450000000          33.941923   \n",
      "48    2015-11-20 02:56:15.080000000          44.079104   \n",
      "50    2016-01-16 14:08:48.748000000          53.792689   \n",
      "52    2015-11-21 22:50:32.531000000          36.997138   \n",
      "53    2015-11-22 18:56:31.749000000          20.115235   \n",
      "54    2016-01-03 15:18:40.075000000          34.540584   \n",
      "55    2015-10-02 22:19:12.825000000          36.900196   \n",
      "58    2015-10-30 09:00:05.644000000          85.381881   \n",
      "59    2015-10-10 23:46:55.214000000          36.913644   \n",
      "...                             ...                ...   \n",
      "2249  2015-11-08 06:51:08.372000000          35.602753   \n",
      "2251  2015-12-20 11:21:57.807000000          25.971230   \n",
      "2252  2016-01-10 15:43:57.849000000          28.364781   \n",
      "2254  2015-11-20 13:41:47.752000000          56.398306   \n",
      "2255  2015-12-02 20:02:43.841000000          39.965954   \n",
      "2257  2015-10-11 13:14:50.286000000          54.385641   \n",
      "2261  2016-01-19 10:31:20.609000000          57.056484   \n",
      "2263  2015-11-22 18:43:31.462000000          50.474389   \n",
      "2264  2015-10-12 03:16:14.931000000          44.646794   \n",
      "2267  2016-01-17 17:40:43.970000000          39.540249   \n",
      "2268  2016-01-04 03:11:40.725000000          69.964543   \n",
      "2269  2015-10-07 16:25:56.328000000          36.694687   \n",
      "2270  2015-11-21 13:37:43.568000000          34.669851   \n",
      "2277  2015-10-29 17:00:11.428000000          67.936674   \n",
      "2280  2015-10-07 14:19:31.365000000          31.724624   \n",
      "2281  2015-10-22 16:59:45.780000000          34.149633   \n",
      "2285  2015-11-06 03:03:41.727000000          51.200863   \n",
      "2288  2015-11-07 20:59:41.986000000          36.609544   \n",
      "2289  2015-10-11 07:01:17.374000000          60.167655   \n",
      "2291  2015-10-11 10:19:01.676000000          67.222667   \n",
      "2294  2015-11-22 13:13:04.751000000          34.467584   \n",
      "2296  2015-12-19 01:54:30.113000000          33.825800   \n",
      "2299  2016-07-25 16:55:30.284000000          26.754180   \n",
      "2304  2015-09-27 16:47:31.807000000          26.387702   \n",
      "2305  2015-10-12 21:25:01.662000000          48.716495   \n",
      "2308  2015-10-18 02:29:34.374000000          45.866206   \n",
      "2309  2015-10-24 12:16:54.993000000          37.758078   \n",
      "2311  2015-12-20 02:39:39.248000000          38.707824   \n",
      "2312  2015-11-29 14:23:43.659000000          41.800010   \n",
      "2314  2015-10-23 17:03:26.939000000          40.764470   \n",
      "\n",
      "             assignment6_submission  \n",
      "0     2015-11-22 18:31:15.934000000  \n",
      "1     2015-12-21 17:07:24.275000000  \n",
      "4     2016-01-05 01:06:59.546000000  \n",
      "5     2016-01-20 19:54:46.166000000  \n",
      "8     2016-01-19 15:24:31.060000000  \n",
      "11    2015-10-26 15:56:55.374000000  \n",
      "15    2015-12-10 01:16:09.387000000  \n",
      "17    2015-09-30 18:24:47.681000000  \n",
      "19    2016-01-04 07:07:44.849000000  \n",
      "22    2015-10-10 20:42:09.120000000  \n",
      "24    2015-12-10 21:25:51.824000000  \n",
      "25    2016-02-22 21:18:35.884000000  \n",
      "27    2015-12-10 21:25:50.740000000  \n",
      "28    2016-01-08 09:54:15.064000000  \n",
      "31    2015-12-21 20:36:33.494000000  \n",
      "35    2015-10-27 06:00:25.184000000  \n",
      "37    2015-10-26 19:33:49.509000000  \n",
      "41    2015-12-04 09:24:50.831000000  \n",
      "42    2015-11-10 21:57:05.987000000  \n",
      "44    2016-01-06 07:02:46.214000000  \n",
      "45    2015-11-12 08:58:38.999000000  \n",
      "46    2015-11-25 10:16:00.835000000  \n",
      "48    2015-11-28 01:46:18.249000000  \n",
      "50    2016-01-18 19:26:41.489000000  \n",
      "52    2015-12-05 10:24:58.732000000  \n",
      "53    2015-11-24 13:47:25.629000000  \n",
      "54    2016-01-06 11:37:31.204000000  \n",
      "55    2015-10-16 20:28:39.215000000  \n",
      "58    2015-11-07 12:24:30.521000000  \n",
      "59    2015-10-12 16:43:00.200000000  \n",
      "...                             ...  \n",
      "2249  2015-11-11 07:55:38.948000000  \n",
      "2251  2015-12-21 12:34:57.733000000  \n",
      "2252  2016-01-29 04:31:49.916000000  \n",
      "2254  2015-11-22 17:03:05.127000000  \n",
      "2255  2015-12-06 08:54:13.104000000  \n",
      "2257  2015-10-13 16:36:18.930000000  \n",
      "2261  2016-01-25 20:04:23.751000000  \n",
      "2263  2015-11-25 03:46:43.786000000  \n",
      "2264  2015-10-13 03:44:10.281000000  \n",
      "2267  2016-01-20 19:54:46.867000000  \n",
      "2268  2016-07-09 05:49:05.759000000  \n",
      "2269  2015-10-10 17:41:29.062000000  \n",
      "2270  2015-11-24 03:47:05.599000000  \n",
      "2277  2016-01-14 00:51:38.759000000  \n",
      "2280  2015-10-12 18:41:33.674000000  \n",
      "2281  2015-10-23 17:57:52.385000000  \n",
      "2285  2015-11-09 22:57:28.638000000  \n",
      "2288  2015-11-12 02:58:56.525000000  \n",
      "2289  2015-10-14 22:02:42.243000000  \n",
      "2291  2015-10-21 13:57:35.341000000  \n",
      "2294  2015-11-25 01:47:19.956000000  \n",
      "2296  2015-12-24 08:32:54.378000000  \n",
      "2299  2016-08-01 10:47:45.037000000  \n",
      "2304  2015-10-12 14:45:59.142000000  \n",
      "2305  2015-10-23 18:29:54.030000000  \n",
      "2308  2015-10-27 00:21:47.208000000  \n",
      "2309  2015-10-26 10:34:41.293000000  \n",
      "2311  2015-12-22 13:34:42.931000000  \n",
      "2312  2015-12-04 09:56:07.156000000  \n",
      "2314  2015-10-26 15:56:55.460000000  \n",
      "\n",
      "[1256 rows x 13 columns]\n"
     ]
    }
   ],
   "source": [
    "early = df[df['assignment1_submission'] <= '2015-12-31']\n",
    "late = df[df['assignment1_submission'] > '2015-12-31']\n",
    "print(early)"
   ]
  },
  {
   "cell_type": "code",
   "execution_count": 19,
   "metadata": {
    "collapsed": false
   },
   "outputs": [
    {
     "data": {
      "text/plain": [
       "assignment1_grade    74.972741\n",
       "assignment2_grade    67.252190\n",
       "assignment3_grade    61.129050\n",
       "assignment4_grade    54.157620\n",
       "assignment5_grade    48.634643\n",
       "assignment6_grade    43.838980\n",
       "dtype: float64"
      ]
     },
     "execution_count": 19,
     "metadata": {},
     "output_type": "execute_result"
    }
   ],
   "source": [
    "early.mean()"
   ]
  },
  {
   "cell_type": "code",
   "execution_count": 20,
   "metadata": {
    "collapsed": false
   },
   "outputs": [
    {
     "data": {
      "text/plain": [
       "assignment1_grade    74.017429\n",
       "assignment2_grade    66.370822\n",
       "assignment3_grade    60.023244\n",
       "assignment4_grade    54.058138\n",
       "assignment5_grade    48.599402\n",
       "assignment6_grade    43.844384\n",
       "dtype: float64"
      ]
     },
     "execution_count": 20,
     "metadata": {},
     "output_type": "execute_result"
    }
   ],
   "source": [
    "late.mean()"
   ]
  },
  {
   "cell_type": "code",
   "execution_count": 21,
   "metadata": {
    "collapsed": false
   },
   "outputs": [],
   "source": [
    "from scipy import stats\n",
    "stats.ttest_ind?"
   ]
  },
  {
   "cell_type": "code",
   "execution_count": 22,
   "metadata": {
    "collapsed": false
   },
   "outputs": [
    {
     "data": {
      "text/plain": [
       "Ttest_indResult(statistic=1.400549944897566, pvalue=0.16148283016060577)"
      ]
     },
     "execution_count": 22,
     "metadata": {},
     "output_type": "execute_result"
    }
   ],
   "source": [
    "stats.ttest_ind(early['assignment1_grade'], late['assignment1_grade'])"
   ]
  },
  {
   "cell_type": "code",
   "execution_count": 23,
   "metadata": {
    "collapsed": false
   },
   "outputs": [
    {
     "data": {
      "text/plain": [
       "Ttest_indResult(statistic=1.3239868220912567, pvalue=0.18563824610067967)"
      ]
     },
     "execution_count": 23,
     "metadata": {},
     "output_type": "execute_result"
    }
   ],
   "source": [
    "stats.ttest_ind(early['assignment2_grade'], late['assignment2_grade'])"
   ]
  },
  {
   "cell_type": "code",
   "execution_count": 24,
   "metadata": {
    "collapsed": false
   },
   "outputs": [
    {
     "data": {
      "text/plain": [
       "Ttest_indResult(statistic=1.7116160037010733, pvalue=0.087101516341556676)"
      ]
     },
     "execution_count": 24,
     "metadata": {},
     "output_type": "execute_result"
    }
   ],
   "source": [
    "stats.ttest_ind(early['assignment3_grade'], late['assignment3_grade'])"
   ]
  }
 ],
 "metadata": {
  "kernelspec": {
   "display_name": "Python 3",
   "language": "python",
   "name": "python3"
  },
  "language_info": {
   "codemirror_mode": {
    "name": "ipython",
    "version": 3
   },
   "file_extension": ".py",
   "mimetype": "text/x-python",
   "name": "python",
   "nbconvert_exporter": "python",
   "pygments_lexer": "ipython3",
   "version": "3.5.2"
  }
 },
 "nbformat": 4,
 "nbformat_minor": 0
}
